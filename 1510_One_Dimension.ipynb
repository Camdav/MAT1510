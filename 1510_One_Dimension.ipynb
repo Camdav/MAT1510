{
 "cells": [
  {
   "cell_type": "markdown",
   "metadata": {},
   "source": [
    "We begin by importing the relevant libraries."
   ]
  },
  {
   "cell_type": "code",
   "execution_count": null,
   "metadata": {},
   "outputs": [],
   "source": [
    "import matplotlib.pyplot as plt\n",
    "import numpy as np\n",
    "import cvxpy as cp"
   ]
  },
  {
   "cell_type": "markdown",
   "metadata": {},
   "source": [
    "Having done so, we set a couple of parameters. In particular, we work on a version of the interval $[0,L]$ which has been discretized to contain $K$ equally-spaced points. In other words, we consider probability measures supported on  $\\{0,\\frac{L}{K-1},\\dots, \\frac{L(K-2)}{K-1}, L\\}$"
   ]
  },
  {
   "cell_type": "code",
   "execution_count": null,
   "metadata": {},
   "outputs": [],
   "source": [
    "K = 128 #Number of points\n",
    "L = 1 #Len\n",
    "print(range(K//4))\n",
    "print(range(3*K//4,K))"
   ]
  },
  {
   "cell_type": "markdown",
   "metadata": {},
   "source": [
    "Now, we define some possible choices for the measures $\\mu$ and $\\nu$ which we use in the report. To generate the graphics in the report, we chose $\\mu$ to be `mu_left` and $\\nu$ to be `mu_right`"
   ]
  },
  {
   "cell_type": "code",
   "execution_count": null,
   "metadata": {},
   "outputs": [],
   "source": [
    "mu_rand = np.random.random((K))\n",
    "mu_rand /= np.sum(mu_rand)                                     #Normalize to get a probability measure\n",
    "plt.ylim([0, 0.04])                                      \n",
    "plt.bar([d/K for d in range(K)],mu_rand, width=1/K, align = 'edge') #Uncomment to get plots\n",
    "plt.draw()                                                     #Uncomment to get plots"
   ]
  },
  {
   "cell_type": "code",
   "execution_count": null,
   "metadata": {},
   "outputs": [],
   "source": [
    "mu_linear = np.zeros((K))\n",
    "for i in range(K):\n",
    "    mu_linear[i] += i                                                 #Have the mass assigned to each point be proportional to the distance from the origin\n",
    "mu_linear /= np.sum(mu_linear)                                        #Normalize to get a probability measure\n",
    "plt.bar([d/K for d in range(K)],mu_linear, width=1/K, align = 'edge')\n",
    "plt.ylim([0, 0.04])\n",
    "plt.draw()"
   ]
  },
  {
   "cell_type": "code",
   "execution_count": null,
   "metadata": {},
   "outputs": [],
   "source": [
    "mu_unif = np.zeros((K))\n",
    "for i in range(K):                                                  #We can change the range here\n",
    "    mu_unif[i] += 1\n",
    "mu_unif /= np.sum(mu_unif)                                          #Normalize to get a probability measure\n",
    "plt.bar([d/K for d in range(K)],mu_unif, width=1/K, align = 'edge')\n",
    "plt.ylim([0, 0.04])\n",
    "plt.draw()"
   ]
  },
  {
   "cell_type": "markdown",
   "metadata": {},
   "source": [
    "Now we define a $K\\times K$ matrix whose entries are the pairwise distances between points. "
   ]
  },
  {
   "cell_type": "code",
   "execution_count": null,
   "metadata": {},
   "outputs": [],
   "source": [
    "distances = np.zeros((K,K))\n",
    "for i in range(K):\n",
    "    for j in range(K):\n",
    "        distances[i][j] = L*np.abs(i-j)/(K-1)"
   ]
  },
  {
   "cell_type": "markdown",
   "metadata": {},
   "source": [
    "Having done so, we use the `cvxpy` library to define a function which executes one step of the WROF minimizing movement scheme. This function takes positional arguments `mu`, `nu`, and `tau`, where `mu` is a source measure (i.e. the status quo before doing one step of the minimizing movement scheme), `nu` is the target measure, representing a distribution of real data, and `tau` is the step length. \n",
    "\n",
    "In his thesis, Milne indicates that `tau` should be some constant multiple of the $d_1$ distance between `mu` and `nu`, but in the interest of minimizing computation time, I used a constant step size, as solving for the $d_1$ distance requires another linear program. \n",
    "\n",
    "Additionally, I've included a keyword argument `normalize_d1` which allows us to replace the $d_2(\\rho,\\nu)$ term in the minimizing movement scheme with $ "
   ]
  },
  {
   "cell_type": "code",
   "execution_count": null,
   "metadata": {},
   "outputs": [],
   "source": [
    "def WROF_step(mu,nu,tau, normalize_d1 = False):\n",
    "    gamma1 = cp.Variable((K, K))                                                        #Start with two cvxpy variables\n",
    "    gamma2 = cp.Variable((K, K))                                                            #representing transport plans.\n",
    "    u = np.ones((K,1))                                                                  #Define a vector of ones (useful for computing marginals efficiently).\n",
    "    U = ([0 <= gamma1, 0 <= gamma2,                                                     #Introduce constraints, starting with forcing entries of gamma to be >=0.\n",
    "        cp.matmul(gamma1, u) == np.reshape(mu,(K,1)),                                   #Enforce that gamma1 has first marginal mu.\n",
    "        cp.matmul(gamma1.T, u) == cp.matmul(gamma2, u),                                 #Enforce that the second marginal of gamma1 and the first \n",
    "                                                                                            #marginal of gamma2 agree.\n",
    "        cp.matmul(gamma2.T,u) == np.reshape(nu,(K,1))])                                 #Enforce that the second marginal of gamma2 is nu.              \n",
    "\n",
    "    if normalize_d1 == False:                                                           #Standard case.\n",
    "        objective = (cp.Minimize( cp.sum(cp.multiply(gamma1,distances**2))/(2*tau)      #Minimize the appropriate objective functional, subject to the given constraints. \n",
    "                                 + cp.sum(cp.multiply(gamma2,distances)) ))\n",
    "    else:\n",
    "        objective = (cp.Minimize( cp.sum(cp.multiply(gamma1,distances**2))/(2*tau)      #This case is similar.\n",
    "                                  + cp.sum(cp.multiply(gamma2,distances**(1+tau))) ))\n",
    "    prob = cp.Problem(objective, U)                                                     #Now use cvxpy to solve the problem.\n",
    "    result = prob.solve()\n",
    "    rho_WROF = np.reshape(np.matmul(gamma1.T.value, u), K)                              #Rewrite the result as a probability vector.\n",
    "    return rho_WROF                                                                     #Return the probability vector rho. \n",
    "\n"
   ]
  },
  {
   "cell_type": "markdown",
   "metadata": {},
   "source": [
    "Finally, we implement the WROF scheme, and return the result at each step as a graph, which can be either saved or shown. "
   ]
  },
  {
   "cell_type": "code",
   "execution_count": null,
   "metadata": {},
   "outputs": [],
   "source": [
    "rho = mu_rand                                                           #Start with initial condition mu_rand.\n",
    "for u in range(35):                                                     #Set a number of steps to iterate over.\n",
    "    rho = WROF_step(rho,mu_linear, 0.005)                               #Run a WROF step.\n",
    "    plt.bar([d/K for d in range(K)],rho, width=1/K, align = 'edge')     #Return the result as a bar plot.\n",
    "    plt.ylim([0, 0.018])                                                #Set a reasonable scale for the y-axis. \n",
    "    plt.show()                                                          #OPTIONAL: Show the plot.\n",
    "    #plt.savefig(\"num_step\"+str(u)+\".jpg\")                              #OPTIONAL: Uncomment to save each step in a local directory.                             \n",
    "    plt.clf()                                                           #Clear the plot before running the next step."
   ]
  }
 ],
 "metadata": {
  "kernelspec": {
   "display_name": "Python 3",
   "language": "python",
   "name": "python3"
  },
  "language_info": {
   "codemirror_mode": {
    "name": "ipython",
    "version": 3
   },
   "file_extension": ".py",
   "mimetype": "text/x-python",
   "name": "python",
   "nbconvert_exporter": "python",
   "pygments_lexer": "ipython3",
   "version": "3.11.7"
  }
 },
 "nbformat": 4,
 "nbformat_minor": 2
}
